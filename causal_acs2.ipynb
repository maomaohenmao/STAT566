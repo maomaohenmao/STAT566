{
 "cells": [
  {
   "cell_type": "code",
   "execution_count": 7,
   "metadata": {},
   "outputs": [],
   "source": [
    "import numpy as np\n",
    "import seaborn as sns\n",
    "import matplotlib.pyplot as plt\n",
    "import pandas as pd\n",
    "import causalinference as ci\n",
    "from causalinference import CausalModel\n",
    "import time"
   ]
  },
  {
   "cell_type": "code",
   "execution_count": 8,
   "metadata": {},
   "outputs": [
    {
     "name": "stdout",
     "output_type": "stream",
     "text": [
      "220.1479480266571 seconds\n"
     ]
    }
   ],
   "source": [
    "start = time.time()\n",
    "data_a = pd.read_csv('data/ss16pusa.csv')\n",
    "data_b = pd.read_csv('data/ss16pusb.csv')\n",
    "end = time.time()\n",
    "print(\"{} seconds\".format(end-start))"
   ]
  },
  {
   "cell_type": "code",
   "execution_count": 12,
   "metadata": {},
   "outputs": [],
   "source": [
    "data = pd.concat([data_a, data_b])"
   ]
  },
  {
   "cell_type": "code",
   "execution_count": 13,
   "metadata": {},
   "outputs": [
    {
     "name": "stdout",
     "output_type": "stream",
     "text": [
      "<class 'pandas.core.frame.DataFrame'>\n",
      "Int64Index: 3156487 entries, 0 to 1533270\n",
      "Columns: 284 entries, RT to pwgtp80\n",
      "dtypes: float64(83), int64(198), object(3)\n",
      "memory usage: 6.7+ GB\n"
     ]
    }
   ],
   "source": [
    "data.info()"
   ]
  },
  {
   "cell_type": "code",
   "execution_count": 16,
   "metadata": {},
   "outputs": [
    {
     "data": {
      "text/html": [
       "<div>\n",
       "<style scoped>\n",
       "    .dataframe tbody tr th:only-of-type {\n",
       "        vertical-align: middle;\n",
       "    }\n",
       "\n",
       "    .dataframe tbody tr th {\n",
       "        vertical-align: top;\n",
       "    }\n",
       "\n",
       "    .dataframe thead th {\n",
       "        text-align: right;\n",
       "    }\n",
       "</style>\n",
       "<table border=\"1\" class=\"dataframe\">\n",
       "  <thead>\n",
       "    <tr style=\"text-align: right;\">\n",
       "      <th></th>\n",
       "      <th>RT</th>\n",
       "      <th>SERIALNO</th>\n",
       "      <th>SPORDER</th>\n",
       "      <th>PUMA</th>\n",
       "      <th>ST</th>\n",
       "      <th>ADJINC</th>\n",
       "      <th>PWGTP</th>\n",
       "      <th>AGEP</th>\n",
       "      <th>CIT</th>\n",
       "      <th>CITWP</th>\n",
       "      <th>...</th>\n",
       "      <th>pwgtp71</th>\n",
       "      <th>pwgtp72</th>\n",
       "      <th>pwgtp73</th>\n",
       "      <th>pwgtp74</th>\n",
       "      <th>pwgtp75</th>\n",
       "      <th>pwgtp76</th>\n",
       "      <th>pwgtp77</th>\n",
       "      <th>pwgtp78</th>\n",
       "      <th>pwgtp79</th>\n",
       "      <th>pwgtp80</th>\n",
       "    </tr>\n",
       "  </thead>\n",
       "  <tbody>\n",
       "    <tr>\n",
       "      <th>0</th>\n",
       "      <td>P</td>\n",
       "      <td>64</td>\n",
       "      <td>1</td>\n",
       "      <td>700</td>\n",
       "      <td>1</td>\n",
       "      <td>1007588</td>\n",
       "      <td>98</td>\n",
       "      <td>84</td>\n",
       "      <td>1</td>\n",
       "      <td>NaN</td>\n",
       "      <td>...</td>\n",
       "      <td>95</td>\n",
       "      <td>98</td>\n",
       "      <td>27</td>\n",
       "      <td>31</td>\n",
       "      <td>174</td>\n",
       "      <td>93</td>\n",
       "      <td>111</td>\n",
       "      <td>87</td>\n",
       "      <td>168</td>\n",
       "      <td>21</td>\n",
       "    </tr>\n",
       "    <tr>\n",
       "      <th>1</th>\n",
       "      <td>P</td>\n",
       "      <td>64</td>\n",
       "      <td>2</td>\n",
       "      <td>700</td>\n",
       "      <td>1</td>\n",
       "      <td>1007588</td>\n",
       "      <td>89</td>\n",
       "      <td>84</td>\n",
       "      <td>1</td>\n",
       "      <td>NaN</td>\n",
       "      <td>...</td>\n",
       "      <td>97</td>\n",
       "      <td>91</td>\n",
       "      <td>30</td>\n",
       "      <td>27</td>\n",
       "      <td>141</td>\n",
       "      <td>93</td>\n",
       "      <td>98</td>\n",
       "      <td>100</td>\n",
       "      <td>177</td>\n",
       "      <td>25</td>\n",
       "    </tr>\n",
       "    <tr>\n",
       "      <th>2</th>\n",
       "      <td>P</td>\n",
       "      <td>80</td>\n",
       "      <td>1</td>\n",
       "      <td>900</td>\n",
       "      <td>1</td>\n",
       "      <td>1007588</td>\n",
       "      <td>95</td>\n",
       "      <td>78</td>\n",
       "      <td>1</td>\n",
       "      <td>NaN</td>\n",
       "      <td>...</td>\n",
       "      <td>118</td>\n",
       "      <td>88</td>\n",
       "      <td>145</td>\n",
       "      <td>81</td>\n",
       "      <td>144</td>\n",
       "      <td>80</td>\n",
       "      <td>93</td>\n",
       "      <td>82</td>\n",
       "      <td>24</td>\n",
       "      <td>210</td>\n",
       "    </tr>\n",
       "    <tr>\n",
       "      <th>3</th>\n",
       "      <td>P</td>\n",
       "      <td>107</td>\n",
       "      <td>1</td>\n",
       "      <td>302</td>\n",
       "      <td>1</td>\n",
       "      <td>1007588</td>\n",
       "      <td>160</td>\n",
       "      <td>46</td>\n",
       "      <td>1</td>\n",
       "      <td>NaN</td>\n",
       "      <td>...</td>\n",
       "      <td>152</td>\n",
       "      <td>50</td>\n",
       "      <td>200</td>\n",
       "      <td>45</td>\n",
       "      <td>45</td>\n",
       "      <td>313</td>\n",
       "      <td>183</td>\n",
       "      <td>258</td>\n",
       "      <td>151</td>\n",
       "      <td>168</td>\n",
       "    </tr>\n",
       "    <tr>\n",
       "      <th>4</th>\n",
       "      <td>P</td>\n",
       "      <td>107</td>\n",
       "      <td>2</td>\n",
       "      <td>302</td>\n",
       "      <td>1</td>\n",
       "      <td>1007588</td>\n",
       "      <td>154</td>\n",
       "      <td>52</td>\n",
       "      <td>1</td>\n",
       "      <td>NaN</td>\n",
       "      <td>...</td>\n",
       "      <td>164</td>\n",
       "      <td>48</td>\n",
       "      <td>158</td>\n",
       "      <td>51</td>\n",
       "      <td>44</td>\n",
       "      <td>287</td>\n",
       "      <td>165</td>\n",
       "      <td>277</td>\n",
       "      <td>163</td>\n",
       "      <td>160</td>\n",
       "    </tr>\n",
       "  </tbody>\n",
       "</table>\n",
       "<p>5 rows × 284 columns</p>\n",
       "</div>"
      ],
      "text/plain": [
       "  RT  SERIALNO  SPORDER  PUMA  ST   ADJINC  PWGTP  AGEP  CIT  CITWP   ...     \\\n",
       "0  P        64        1   700   1  1007588     98    84    1    NaN   ...      \n",
       "1  P        64        2   700   1  1007588     89    84    1    NaN   ...      \n",
       "2  P        80        1   900   1  1007588     95    78    1    NaN   ...      \n",
       "3  P       107        1   302   1  1007588    160    46    1    NaN   ...      \n",
       "4  P       107        2   302   1  1007588    154    52    1    NaN   ...      \n",
       "\n",
       "   pwgtp71  pwgtp72  pwgtp73  pwgtp74  pwgtp75  pwgtp76  pwgtp77  pwgtp78  \\\n",
       "0       95       98       27       31      174       93      111       87   \n",
       "1       97       91       30       27      141       93       98      100   \n",
       "2      118       88      145       81      144       80       93       82   \n",
       "3      152       50      200       45       45      313      183      258   \n",
       "4      164       48      158       51       44      287      165      277   \n",
       "\n",
       "   pwgtp79  pwgtp80  \n",
       "0      168       21  \n",
       "1      177       25  \n",
       "2       24      210  \n",
       "3      151      168  \n",
       "4      163      160  \n",
       "\n",
       "[5 rows x 284 columns]"
      ]
     },
     "execution_count": 16,
     "metadata": {},
     "output_type": "execute_result"
    }
   ],
   "source": [
    "data.head()"
   ]
  },
  {
   "cell_type": "code",
   "execution_count": 28,
   "metadata": {},
   "outputs": [],
   "source": [
    "def pr_treat(col):\n",
    "    if col <= 56:\n",
    "        return 0\n",
    "    elif col == 72:\n",
    "        return 1\n",
    "    else:\n",
    "        return np.nan"
   ]
  },
  {
   "cell_type": "code",
   "execution_count": 141,
   "metadata": {},
   "outputs": [],
   "source": [
    "dc = pd.DataFrame()\n",
    "dc['id'] = data.SERIALNO\n",
    "dc['puma'] = data.PUMA\n",
    "dc['age'] = data.AGEP\n",
    "dc['sex'] = (data.SEX > 1).astype(int)\n",
    "dc['hispanic'] = (data.HISP > 1).astype(int)\n",
    "dc['edu'] = data.SCHL\n",
    "dc['treat'] = data.POBP.apply(pr_treat)\n",
    "dc['income'] = data.PINCP\n",
    "dc['disab'] = (data.DIS == 1).astype(int)\n",
    "dc['english'] = data.ENG.fillna(1)\n",
    "dc['posinc'] = dc.income\n",
    "dc.loc[(dc.posinc < 0), 'posinc'] = dc.loc[(dc.posinc < 0), 'posinc'] + 20001\n",
    "dc.loc[dc.posinc == 0, 'posinc'] = 1\n",
    "dc['loginc'] = np.log(dc.posinc)\n",
    "dc['inc_raw'] = (data.OIP + data.PAP + data.RETP + data.SSIP + data.SSP + data.WAGP).astype(float)\n",
    "dc['inc_raw'] = dc.inc_raw.replace(np.inf, np.nan).replace(0, np.nan)\n",
    "dc['log_incraw'] = np.log(dc.inc_raw)"
   ]
  },
  {
   "cell_type": "code",
   "execution_count": 142,
   "metadata": {},
   "outputs": [
    {
     "name": "stdout",
     "output_type": "stream",
     "text": [
      "<class 'pandas.core.frame.DataFrame'>\n",
      "Int64Index: 3156487 entries, 0 to 1533270\n",
      "Data columns (total 14 columns):\n",
      "id            3156487 non-null int64\n",
      "puma          3156487 non-null int64\n",
      "age           3156487 non-null int64\n",
      "sex           3156487 non-null int64\n",
      "hispanic      3156487 non-null int64\n",
      "edu           3060717 non-null float64\n",
      "treat         2754706 non-null float64\n",
      "income        2624319 non-null float64\n",
      "disab         3156487 non-null int64\n",
      "english       3156487 non-null float64\n",
      "posinc        2624319 non-null float64\n",
      "loginc        2624319 non-null float64\n",
      "inc_raw       2192953 non-null float64\n",
      "log_incraw    2192953 non-null float64\n",
      "dtypes: float64(8), int64(6)\n",
      "memory usage: 361.2 MB\n",
      "None\n",
      "<class 'pandas.core.frame.DataFrame'>\n",
      "Int64Index: 1893461 entries, 0 to 1533270\n",
      "Data columns (total 14 columns):\n",
      "id            1893461 non-null int64\n",
      "puma          1893461 non-null int64\n",
      "age           1893461 non-null int64\n",
      "sex           1893461 non-null int64\n",
      "hispanic      1893461 non-null int64\n",
      "edu           1893461 non-null float64\n",
      "treat         1893461 non-null float64\n",
      "income        1893461 non-null float64\n",
      "disab         1893461 non-null int64\n",
      "english       1893461 non-null float64\n",
      "posinc        1893461 non-null float64\n",
      "loginc        1893461 non-null float64\n",
      "inc_raw       1893461 non-null float64\n",
      "log_incraw    1893461 non-null float64\n",
      "dtypes: float64(8), int64(6)\n",
      "memory usage: 216.7 MB\n",
      "None\n"
     ]
    }
   ],
   "source": [
    "print(dc.info(verbose=True, null_counts=True))\n",
    "dc.dropna(inplace=True)\n",
    "print(dc.info(verbose=True, null_counts=True))"
   ]
  },
  {
   "cell_type": "code",
   "execution_count": 334,
   "metadata": {},
   "outputs": [
    {
     "data": {
      "image/png": "[encoded data removed]",
      "text/plain": [
       "<matplotlib.figure.Figure at 0x1a4a16afd0>"
      ]
     },
     "metadata": {},
     "output_type": "display_data"
    }
   ],
   "source": [
    "f, axes = plt.subplots(2, 2, figsize=(10, 10))\n",
    "\n",
    "sns.distplot(dc[dc.treat == 0].age, label='control', ax=axes[0,1])\n",
    "sns.distplot(dc[dc.treat == 1].age, label='treat', ax=axes[0,1])\n",
    "sns.boxplot(x=\"treat\", y=\"age\", data=dc, ax=axes[0,0])\n",
    "\n",
    "# sns.distplot(np.log(abs(data.PINCP.dropna() + 1)), label='control', ax=axes[1,1])\n",
    "sns.distplot(np.log(dc[dc.treat == 0].inc_raw), label='control', ax=axes[1,1])\n",
    "sns.distplot(np.log(dc[dc.treat == 1].inc_raw), label='treat', ax=axes[1,1])\n",
    "sns.boxplot(x=\"treat\", y=\"log_incraw\", data=dc, ax=axes[1,0])\n",
    "\n",
    "# plt.title('Distributions of Age and Log-Income')\n",
    "\n",
    "f.savefig('plots1.png')\n",
    "# sns.barplot(x=\"edu\", y=\"edu\", data=dc[dc.treat==0], estimator=lambda x: len(edu) / len(dc[dc.treat==0]) * 100)"
   ]
  },
  {
   "cell_type": "code",
   "execution_count": 356,
   "metadata": {},
   "outputs": [
    {
     "data": {
      "image/png": "[encoded data removed]",
      "text/plain": [
       "<matplotlib.figure.Figure at 0x1a3f98e7b8>"
      ]
     },
     "metadata": {},
     "output_type": "display_data"
    }
   ],
   "source": [
    "f, axes = plt.subplots(1, 2, figsize=(10, 5))\n",
    "\n",
    "# sns.countplot(x='treat', hue='sex', data=dc,  ax=axes[0])\n",
    "# sns.countplot(x='sex', data=dc[dc.treat == 1],  ax=axes[1])\n",
    "sns.distplot(dc[dc.treat == 0].edu, ax=axes[0])\n",
    "sns.distplot(dc[dc.treat == 1].edu, ax=axes[0])\n",
    "sns.boxplot(x=\"treat\", y=\"edu\", data=dc, ax=axes[1])\n",
    "# plt.title('Distributions of Age and Log-Income')\n",
    "\n",
    "f.savefig('plots2.png')"
   ]
  },
  {
   "cell_type": "code",
   "execution_count": 145,
   "metadata": {},
   "outputs": [
    {
     "data": {
      "text/html": [
       "<div>\n",
       "<style scoped>\n",
       "    .dataframe tbody tr th:only-of-type {\n",
       "        vertical-align: middle;\n",
       "    }\n",
       "\n",
       "    .dataframe tbody tr th {\n",
       "        vertical-align: top;\n",
       "    }\n",
       "\n",
       "    .dataframe thead th {\n",
       "        text-align: right;\n",
       "    }\n",
       "</style>\n",
       "<table border=\"1\" class=\"dataframe\">\n",
       "  <thead>\n",
       "    <tr style=\"text-align: right;\">\n",
       "      <th></th>\n",
       "      <th>id</th>\n",
       "      <th>puma</th>\n",
       "      <th>age</th>\n",
       "      <th>sex</th>\n",
       "      <th>hispanic</th>\n",
       "      <th>edu</th>\n",
       "      <th>income</th>\n",
       "      <th>disab</th>\n",
       "      <th>english</th>\n",
       "      <th>posinc</th>\n",
       "      <th>loginc</th>\n",
       "      <th>inc_raw</th>\n",
       "      <th>log_incraw</th>\n",
       "    </tr>\n",
       "    <tr>\n",
       "      <th>treat</th>\n",
       "      <th></th>\n",
       "      <th></th>\n",
       "      <th></th>\n",
       "      <th></th>\n",
       "      <th></th>\n",
       "      <th></th>\n",
       "      <th></th>\n",
       "      <th></th>\n",
       "      <th></th>\n",
       "      <th></th>\n",
       "      <th></th>\n",
       "      <th></th>\n",
       "      <th></th>\n",
       "    </tr>\n",
       "  </thead>\n",
       "  <tbody>\n",
       "    <tr>\n",
       "      <th>0.0</th>\n",
       "      <td>1882428</td>\n",
       "      <td>1882428</td>\n",
       "      <td>1882428</td>\n",
       "      <td>1882428</td>\n",
       "      <td>1882428</td>\n",
       "      <td>1882428</td>\n",
       "      <td>1882428</td>\n",
       "      <td>1882428</td>\n",
       "      <td>1882428</td>\n",
       "      <td>1882428</td>\n",
       "      <td>1882428</td>\n",
       "      <td>1882428</td>\n",
       "      <td>1882428</td>\n",
       "    </tr>\n",
       "    <tr>\n",
       "      <th>1.0</th>\n",
       "      <td>11033</td>\n",
       "      <td>11033</td>\n",
       "      <td>11033</td>\n",
       "      <td>11033</td>\n",
       "      <td>11033</td>\n",
       "      <td>11033</td>\n",
       "      <td>11033</td>\n",
       "      <td>11033</td>\n",
       "      <td>11033</td>\n",
       "      <td>11033</td>\n",
       "      <td>11033</td>\n",
       "      <td>11033</td>\n",
       "      <td>11033</td>\n",
       "    </tr>\n",
       "  </tbody>\n",
       "</table>\n",
       "</div>"
      ],
      "text/plain": [
       "            id     puma      age      sex  hispanic      edu   income  \\\n",
       "treat                                                                   \n",
       "0.0    1882428  1882428  1882428  1882428   1882428  1882428  1882428   \n",
       "1.0      11033    11033    11033    11033     11033    11033    11033   \n",
       "\n",
       "         disab  english   posinc   loginc  inc_raw  log_incraw  \n",
       "treat                                                           \n",
       "0.0    1882428  1882428  1882428  1882428  1882428     1882428  \n",
       "1.0      11033    11033    11033    11033    11033       11033  "
      ]
     },
     "execution_count": 145,
     "metadata": {},
     "output_type": "execute_result"
    }
   ],
   "source": [
    "dc.groupby('treat').count()"
   ]
  },
  {
   "cell_type": "markdown",
   "metadata": {},
   "source": [
    "# Causal Modeling"
   ]
  },
  {
   "cell_type": "code",
   "execution_count": 316,
   "metadata": {},
   "outputs": [],
   "source": [
    "samp = pd.concat([dc[dc.treat == 0].sample(11033), dc[dc.treat == 1]])\n",
    "Y = samp.inc_raw.as_matrix()\n",
    "D = samp.treat.as_matrix()\n",
    "X = samp[['age', 'sex', 'hispanic', 'edu', 'disab', 'english']].as_matrix()\n",
    "causal = CausalModel(Y, D, X)"
   ]
  },
  {
   "cell_type": "code",
   "execution_count": 317,
   "metadata": {},
   "outputs": [
    {
     "name": "stdout",
     "output_type": "stream",
     "text": [
      "\n",
      "Summary Statistics\n",
      "\n",
      "                     Controls (N_c=11033)       Treated (N_t=11033)             \n",
      "       Variable         Mean         S.d.         Mean         S.d.     Raw-diff\n",
      "--------------------------------------------------------------------------------\n",
      "              Y    41899.365    53462.584    31065.515    40150.126   -10833.850\n",
      "\n",
      "                     Controls (N_c=11033)       Treated (N_t=11033)             \n",
      "       Variable         Mean         S.d.         Mean         S.d.     Nor-diff\n",
      "--------------------------------------------------------------------------------\n",
      "             X0       50.385       19.454       52.519       18.431        0.113\n",
      "             X1        0.505        0.500        0.530        0.499        0.051\n",
      "             X2        0.072        0.259        0.970        0.171        4.090\n",
      "             X3       18.247        3.203       16.331        4.804       -0.469\n",
      "             X4        0.189        0.392        0.272        0.445        0.199\n",
      "             X5        1.014        0.146        1.649        0.913        0.970\n",
      "\n"
     ]
    }
   ],
   "source": [
    "ss = causal.summary_stats\n",
    "print(ss)"
   ]
  },
  {
   "cell_type": "code",
   "execution_count": 318,
   "metadata": {},
   "outputs": [],
   "source": [
    "causal.est_via_ols()"
   ]
  },
  {
   "cell_type": "code",
   "execution_count": 319,
   "metadata": {},
   "outputs": [
    {
     "name": "stdout",
     "output_type": "stream",
     "text": [
      "\n",
      "Treatment Effect Estimates: OLS\n",
      "\n",
      "                     Est.       S.e.          z      P>|z|      [95% Conf. int.]\n",
      "--------------------------------------------------------------------------------\n",
      "           ATE   5643.161   2102.858      2.684      0.007   1521.559   9764.763\n",
      "           ATC  10701.793   3398.457      3.149      0.002   4040.818  17362.768\n",
      "           ATT    584.529   2245.278      0.260      0.795  -3816.216   4985.274\n",
      "\n"
     ]
    }
   ],
   "source": [
    "print(causal.estimates)"
   ]
  },
  {
   "cell_type": "code",
   "execution_count": 320,
   "metadata": {},
   "outputs": [],
   "source": [
    "causal.est_propensity_s()"
   ]
  },
  {
   "cell_type": "code",
   "execution_count": 321,
   "metadata": {},
   "outputs": [
    {
     "name": "stdout",
     "output_type": "stream",
     "text": [
      "\n",
      "Estimated Parameters of Propensity Score\n",
      "\n",
      "                    Coef.       S.e.          z      P>|z|      [95% Conf. int.]\n",
      "--------------------------------------------------------------------------------\n",
      "     Intercept     -7.382      0.538    -13.725      0.000     -8.436     -6.328\n",
      "            X2      5.229      0.280     18.656      0.000      4.679      5.778\n",
      "            X5      2.914      0.456      6.384      0.000      2.020      3.809\n",
      "            X0      0.061      0.010      5.925      0.000      0.041      0.081\n",
      "            X3     -0.072      0.036     -2.009      0.044     -0.143     -0.002\n",
      "         X2*X0      0.028      0.004      7.004      0.000      0.020      0.036\n",
      "         X0*X0     -0.001      0.000     -6.069      0.000     -0.001     -0.000\n",
      "         X2*X5     -0.713      0.177     -4.041      0.000     -1.059     -0.367\n",
      "         X3*X3      0.003      0.001      2.680      0.007      0.001      0.005\n",
      "         X5*X5     -0.246      0.106     -2.310      0.021     -0.454     -0.037\n",
      "\n"
     ]
    }
   ],
   "source": [
    "print(causal.propensity)"
   ]
  },
  {
   "cell_type": "code",
   "execution_count": 322,
   "metadata": {},
   "outputs": [
    {
     "data": {
      "text/plain": [
       "{'divide': 'ignore', 'invalid': 'ignore', 'over': 'warn', 'under': 'ignore'}"
      ]
     },
     "execution_count": 322,
     "metadata": {},
     "output_type": "execute_result"
    }
   ],
   "source": [
    "causal.cutoff\n",
    "np.seterr(divide='ignore', invalid='ignore')"
   ]
  },
  {
   "cell_type": "code",
   "execution_count": 323,
   "metadata": {},
   "outputs": [],
   "source": [
    "causal.trim_s()"
   ]
  },
  {
   "cell_type": "code",
   "execution_count": 324,
   "metadata": {},
   "outputs": [
    {
     "data": {
      "text/plain": [
       "0.019426067160036364"
      ]
     },
     "execution_count": 324,
     "metadata": {},
     "output_type": "execute_result"
    }
   ],
   "source": [
    "causal.cutoff"
   ]
  },
  {
   "cell_type": "code",
   "execution_count": 325,
   "metadata": {},
   "outputs": [
    {
     "name": "stdout",
     "output_type": "stream",
     "text": [
      "\n",
      "Summary Statistics\n",
      "\n",
      "                      Controls (N_c=9748)        Treated (N_t=7522)             \n",
      "       Variable         Mean         S.d.         Mean         S.d.     Raw-diff\n",
      "--------------------------------------------------------------------------------\n",
      "              Y    45561.735    55499.133    36230.213    45126.210    -9331.521\n",
      "\n",
      "                      Controls (N_c=9748)        Treated (N_t=7522)             \n",
      "       Variable         Mean         S.d.         Mean         S.d.     Nor-diff\n",
      "--------------------------------------------------------------------------------\n",
      "             X0       50.858       16.793       47.591       17.775       -0.189\n",
      "             X1        0.497        0.500        0.516        0.500        0.038\n",
      "             X2        0.079        0.270        0.958        0.200        3.706\n",
      "             X3       18.569        3.124       17.461        3.983       -0.309\n",
      "             X4        0.173        0.379        0.199        0.399        0.065\n",
      "             X5        1.012        0.131        1.138        0.396        0.427\n",
      "\n"
     ]
    }
   ],
   "source": [
    "print(causal.summary_stats)"
   ]
  },
  {
   "cell_type": "code",
   "execution_count": 284,
   "metadata": {},
   "outputs": [],
   "source": [
    "causal.blocks = 5"
   ]
  },
  {
   "cell_type": "code",
   "execution_count": 285,
   "metadata": {},
   "outputs": [],
   "source": [
    "causal.stratify()"
   ]
  },
  {
   "cell_type": "code",
   "execution_count": 286,
   "metadata": {},
   "outputs": [
    {
     "name": "stdout",
     "output_type": "stream",
     "text": [
      "\n",
      "Stratification Summary\n",
      "\n",
      "              Propensity Score         Sample Size     Ave. Propensity   Outcome\n",
      "   Stratum      Min.      Max.  Controls   Treated  Controls   Treated  Raw-diff\n",
      "--------------------------------------------------------------------------------\n",
      "         1     0.004     0.006     10753        44     0.005     0.005  3830.238\n",
      "         2     0.006     0.007     10734        62     0.007     0.007  7478.838\n",
      "         3     0.007     0.008     10710        86     0.008     0.008  5247.374\n",
      "         4     0.008     0.625      9007      1786     0.106     0.471-31831.321\n",
      "         5     0.625     0.992      1768      9027     0.766     0.847-11202.716\n",
      "\n"
     ]
    }
   ],
   "source": [
    "print(causal.strata)"
   ]
  },
  {
   "cell_type": "code",
   "execution_count": 326,
   "metadata": {},
   "outputs": [],
   "source": [
    "causal.est_via_matching()"
   ]
  },
  {
   "cell_type": "code",
   "execution_count": 327,
   "metadata": {},
   "outputs": [
    {
     "name": "stdout",
     "output_type": "stream",
     "text": [
      "\n",
      "Treatment Effect Estimates: Matching\n",
      "\n",
      "                     Est.       S.e.          z      P>|z|      [95% Conf. int.]\n",
      "--------------------------------------------------------------------------------\n",
      "           ATE   2900.585   2555.285      1.135      0.256  -2107.774   7908.944\n",
      "           ATC   3875.431   3529.931      1.098      0.272  -3043.234  10794.095\n",
      "           ATT   1637.252   3394.890      0.482      0.630  -5016.733   8291.237\n",
      "\n"
     ]
    }
   ],
   "source": [
    "print(causal.estimates)"
   ]
  },
  {
   "cell_type": "code",
   "execution_count": 328,
   "metadata": {},
   "outputs": [
    {
     "name": "stdout",
     "output_type": "stream",
     "text": [
      "\n",
      "Treatment Effect Estimates: Matching\n",
      "\n",
      "                     Est.       S.e.          z      P>|z|      [95% Conf. int.]\n",
      "--------------------------------------------------------------------------------\n",
      "           ATE   2859.325   2556.979      1.118      0.263  -2152.353   7871.003\n",
      "           ATC   3755.316   3536.992      1.062      0.288  -3177.189  10687.821\n",
      "           ATT   1698.182   3389.375      0.501      0.616  -4944.994   8341.357\n",
      "\n"
     ]
    }
   ],
   "source": [
    "causal.est_via_matching(bias_adj=True)\n",
    "print(causal.estimates)"
   ]
  },
  {
   "cell_type": "code",
   "execution_count": 329,
   "metadata": {},
   "outputs": [
    {
     "name": "stdout",
     "output_type": "stream",
     "text": [
      "\n",
      "Treatment Effect Estimates: Matching\n",
      "\n",
      "                     Est.       S.e.          z      P>|z|      [95% Conf. int.]\n",
      "--------------------------------------------------------------------------------\n",
      "           ATE   1681.029   1945.334      0.864      0.388  -2131.826   5493.885\n",
      "           ATC   3213.652   2765.457      1.162      0.245  -2206.644   8633.949\n",
      "           ATT   -305.145   2387.097     -0.128      0.898  -4983.855   4373.565\n",
      "\n"
     ]
    }
   ],
   "source": [
    "causal.est_via_matching(matches = 4, bias_adj=True)\n",
    "print(causal.estimates)"
   ]
  },
  {
   "cell_type": "markdown",
   "metadata": {},
   "source": [
    "# Using Log-Income"
   ]
  },
  {
   "cell_type": "code",
   "execution_count": 309,
   "metadata": {},
   "outputs": [],
   "source": [
    "samp = pd.concat([dc[dc.treat == 0].sample(11033), dc[dc.treat == 1]])\n",
    "Y = samp.log_incraw.as_matrix()\n",
    "D = samp.treat.as_matrix()\n",
    "X = samp[['age', 'sex', 'hispanic', 'edu', 'disab', 'english']].as_matrix()\n",
    "causal = CausalModel(Y, D, X)"
   ]
  },
  {
   "cell_type": "code",
   "execution_count": 310,
   "metadata": {},
   "outputs": [
    {
     "name": "stdout",
     "output_type": "stream",
     "text": [
      "\n",
      "Summary Statistics\n",
      "\n",
      "                     Controls (N_c=11033)       Treated (N_t=11033)             \n",
      "       Variable         Mean         S.d.         Mean         S.d.     Raw-diff\n",
      "--------------------------------------------------------------------------------\n",
      "              Y       10.083        1.208        9.817        1.112       -0.266\n",
      "\n",
      "                     Controls (N_c=11033)       Treated (N_t=11033)             \n",
      "       Variable         Mean         S.d.         Mean         S.d.     Nor-diff\n",
      "--------------------------------------------------------------------------------\n",
      "             X0       51.139       19.447       52.519       18.431        0.073\n",
      "             X1        0.512        0.500        0.530        0.499        0.036\n",
      "             X2        0.069        0.253        0.970        0.171        4.171\n",
      "             X3       18.239        3.250       16.331        4.804       -0.465\n",
      "             X4        0.193        0.394        0.272        0.445        0.189\n",
      "             X5        1.012        0.133        1.649        0.913        0.976\n",
      "\n"
     ]
    }
   ],
   "source": [
    "ss = causal.summary_stats\n",
    "print(ss)"
   ]
  },
  {
   "cell_type": "code",
   "execution_count": 311,
   "metadata": {},
   "outputs": [
    {
     "name": "stdout",
     "output_type": "stream",
     "text": [
      "\n",
      "Treatment Effect Estimates: OLS\n",
      "\n",
      "                     Est.       S.e.          z      P>|z|      [95% Conf. int.]\n",
      "--------------------------------------------------------------------------------\n",
      "           ATE      0.097      0.047      2.076      0.038      0.005      0.189\n",
      "           ATC      0.172      0.061      2.839      0.005      0.053      0.291\n",
      "           ATT      0.022      0.068      0.322      0.747     -0.111      0.155\n",
      "\n"
     ]
    }
   ],
   "source": [
    "causal.est_via_ols()\n",
    "print(causal.estimates)"
   ]
  },
  {
   "cell_type": "code",
   "execution_count": 312,
   "metadata": {},
   "outputs": [
    {
     "name": "stdout",
     "output_type": "stream",
     "text": [
      "\n",
      "Estimated Parameters of Propensity Score\n",
      "\n",
      "                    Coef.       S.e.          z      P>|z|      [95% Conf. int.]\n",
      "--------------------------------------------------------------------------------\n",
      "     Intercept     -9.161      0.714    -12.826      0.000    -10.561     -7.761\n",
      "            X2      5.585      0.297     18.797      0.000      5.003      6.167\n",
      "            X5      5.316      0.608      8.740      0.000      4.124      6.508\n",
      "            X0      0.045      0.010      4.305      0.000      0.024      0.065\n",
      "            X3     -0.011      0.045     -0.235      0.814     -0.099      0.078\n",
      "            X4      0.209      0.092      2.276      0.023      0.029      0.389\n",
      "         X2*X0      0.026      0.004      6.630      0.000      0.019      0.034\n",
      "         X0*X0     -0.000      0.000     -4.623      0.000     -0.001     -0.000\n",
      "         X2*X5     -0.988      0.195     -5.055      0.000     -1.371     -0.605\n",
      "         X5*X5     -0.530      0.103     -5.121      0.000     -0.733     -0.327\n",
      "         X5*X3     -0.060      0.022     -2.661      0.008     -0.104     -0.016\n",
      "         X3*X3      0.003      0.001      2.661      0.008      0.001      0.006\n",
      "\n"
     ]
    }
   ],
   "source": [
    "causal.est_propensity_s()\n",
    "print(causal.propensity)"
   ]
  },
  {
   "cell_type": "code",
   "execution_count": 313,
   "metadata": {},
   "outputs": [
    {
     "name": "stdout",
     "output_type": "stream",
     "text": [
      "0.0185809458722\n",
      "\n",
      "Summary Statistics\n",
      "\n",
      "                     Controls (N_c=10301)        Treated (N_t=7467)             \n",
      "       Variable         Mean         S.d.         Mean         S.d.     Raw-diff\n",
      "--------------------------------------------------------------------------------\n",
      "              Y       10.163        1.153        9.969        1.152       -0.194\n",
      "\n",
      "                     Controls (N_c=10301)        Treated (N_t=7467)             \n",
      "       Variable         Mean         S.d.         Mean         S.d.     Nor-diff\n",
      "--------------------------------------------------------------------------------\n",
      "             X0       50.732       17.836       47.522       17.907       -0.180\n",
      "             X1        0.507        0.500        0.517        0.500        0.021\n",
      "             X2        0.071        0.256        0.957        0.203        3.833\n",
      "             X3       18.487        3.139       17.592        3.893       -0.253\n",
      "             X4        0.186        0.390        0.193        0.394        0.016\n",
      "             X5        1.008        0.104        1.146        0.457        0.416\n",
      "\n"
     ]
    }
   ],
   "source": [
    "causal.trim_s()\n",
    "print(causal.cutoff)\n",
    "print(causal.summary_stats)"
   ]
  },
  {
   "cell_type": "code",
   "execution_count": 314,
   "metadata": {},
   "outputs": [
    {
     "name": "stdout",
     "output_type": "stream",
     "text": [
      "\n",
      "Treatment Effect Estimates: Matching\n",
      "\n",
      "                     Est.       S.e.          z      P>|z|      [95% Conf. int.]\n",
      "--------------------------------------------------------------------------------\n",
      "           ATE     -0.017      0.068     -0.254      0.799     -0.151      0.117\n",
      "           ATC      0.012      0.101      0.124      0.902     -0.185      0.210\n",
      "           ATT     -0.059      0.077     -0.757      0.449     -0.210      0.093\n",
      "\n"
     ]
    }
   ],
   "source": [
    "causal.est_via_matching()\n",
    "print(causal.estimates)"
   ]
  },
  {
   "cell_type": "code",
   "execution_count": null,
   "metadata": {},
   "outputs": [],
   "source": []
  }
 ],
 "metadata": {
  "kernelspec": {
   "display_name": "Python 3",
   "language": "python",
   "name": "python3"
  },
  "language_info": {
   "codemirror_mode": {
    "name": "ipython",
    "version": 3
   },
   "file_extension": ".py",
   "mimetype": "text/x-python",
   "name": "python",
   "nbconvert_exporter": "python",
   "pygments_lexer": "ipython3",
   "version": "3.6.3"
  }
 },
 "nbformat": 4,
 "nbformat_minor": 2
}
